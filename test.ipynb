{
 "cells": [
  {
   "cell_type": "code",
   "execution_count": null,
   "metadata": {},
   "outputs": [],
   "source": [
    "from build_the_list import list_of_keywords"
   ]
  },
  {
   "cell_type": "code",
   "execution_count": 38,
   "metadata": {},
   "outputs": [
    {
     "data": {
      "text/plain": [
       "'freelancing websites'"
      ]
     },
     "execution_count": 38,
     "metadata": {},
     "output_type": "execute_result"
    }
   ],
   "source": [
    "list_of_keywords[0].text"
   ]
  },
  {
   "cell_type": "markdown",
   "metadata": {},
   "source": [
    "# Each list item is of type : GenerateKeywordIdeaResult\n",
    "## The Structure is as following:\n",
    "```JSONasPython\n",
    "keyword_idea_metrics {\n",
    "  competition: MEDIUM\n",
    "  monthly_search_volumes {\n",
    "    month: NOVEMBER\n",
    "    year: 2020\n",
    "    monthly_searches: 390\n",
    "  }\n",
    "  ...... months ...\n",
    "  avg_monthly_searches: 390\n",
    "  competition_index: 54\n",
    "  low_top_of_page_bid_micros: 28742437\n",
    "  high_top_of_page_bid_micros: 124550562\n",
    "}\n",
    "text: \"freelancing websites\"\n",
    "keyword_annotations {\n",
    "}\n",
    "```\n",
    "## To extract data:\n",
    "- competition:\n",
    "```python\n",
    "list_of_keywords[0].keyword_metrics.competition\n",
    "```\n",
    "- Average Monthly Searches:\n",
    "```python\n",
    "list_of_keywords[0].keyword_metrics.avg_monthly_searches\n",
    "```\n",
    "- Keyword Text:\n",
    "```python\n",
    "list_of_keywords[0].text\n",
    "```"
   ]
  }
 ],
 "metadata": {
  "interpreter": {
   "hash": "042a954d84dc6807dd3ccc581aa48796b6bb9a7bf093bb756c4ec3e12df81feb"
  },
  "kernelspec": {
   "display_name": "Python 3.8.10 64-bit ('test-google-ads-api-eub0mqkY-py3.8': poetry)",
   "language": "python",
   "name": "python3"
  },
  "language_info": {
   "codemirror_mode": {
    "name": "ipython",
    "version": 3
   },
   "file_extension": ".py",
   "mimetype": "text/x-python",
   "name": "python",
   "nbconvert_exporter": "python",
   "pygments_lexer": "ipython3",
   "version": "3.8.10"
  },
  "orig_nbformat": 4
 },
 "nbformat": 4,
 "nbformat_minor": 2
}
